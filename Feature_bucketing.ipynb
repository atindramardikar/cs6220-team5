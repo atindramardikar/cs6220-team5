{
 "cells": [
  {
   "cell_type": "code",
   "execution_count": 128,
   "metadata": {},
   "outputs": [],
   "source": [
    "# All Imports\n",
    "\n",
    "import pandas as pd\n",
    "import numpy as np\n",
    "import matplotlib.pyplot as plt"
   ]
  },
  {
   "cell_type": "code",
   "execution_count": 129,
   "metadata": {},
   "outputs": [
    {
     "name": "stdout",
     "output_type": "stream",
     "text": [
      "Reading data.csv\n",
      "number of records -  891360\n"
     ]
    }
   ],
   "source": [
    "# read the dataset\n",
    "print(\"Reading data.csv\")\n",
    "data = pd.read_csv('data.csv')\n",
    "print(\"number of records - \", len(data))\n"
   ]
  },
  {
   "cell_type": "code",
   "execution_count": 130,
   "metadata": {},
   "outputs": [
    {
     "data": {
      "text/plain": [
       "{'Bank account or service',\n",
       " 'Checking or savings account',\n",
       " 'Consumer Loan',\n",
       " 'Credit card',\n",
       " 'Credit card or prepaid card',\n",
       " 'Credit reporting',\n",
       " 'Credit reporting, credit repair services, or other personal consumer reports',\n",
       " 'Debt collection',\n",
       " 'Money transfer, virtual currency, or money service',\n",
       " 'Money transfers',\n",
       " 'Mortgage',\n",
       " 'Other financial service',\n",
       " 'Payday loan',\n",
       " 'Payday loan, title loan, or personal loan',\n",
       " 'Prepaid card',\n",
       " 'Student loan',\n",
       " 'Vehicle loan or lease',\n",
       " 'Virtual currency'}"
      ]
     },
     "execution_count": 130,
     "metadata": {},
     "output_type": "execute_result"
    }
   ],
   "source": [
    "# Unique categories for Product\n",
    "product_set = set(data['Product'])\n",
    "product_set\n"
   ]
  },
  {
   "cell_type": "code",
   "execution_count": 131,
   "metadata": {},
   "outputs": [],
   "source": [
    "# Broadly assign 1 of 4 categories to Product\n",
    "# Define categories here\n",
    "\n",
    "# Bank Account Related\n",
    "bank_related=['Bank account or service',\n",
    "'Checking or savings account']\n",
    "\n",
    "# Credit Card Related\n",
    "cc_related=['Credit card',\n",
    "'Credit card or prepaid card',\n",
    "'Credit reporting',\n",
    "'Credit reporting, credit repair services, or other personal consumer reports',\n",
    "'Prepaid card']\n",
    "\n",
    "# Loan Related\n",
    "loan_related=['Student loan',\n",
    "'Payday loan',\n",
    "'Payday loan, title loan, or personal loan',\n",
    "'Consumer Loan',\n",
    "'Debt collection',\n",
    "'Mortgage',\n",
    "'Vehicle loan or lease']\n",
    "\n",
    "# Other categories\n",
    "others=['Money transfer, virtual currency, or money service',\n",
    "'Money transfers',\n",
    "'Other financial service',\n",
    "'Virtual currency']\n",
    "\n",
    "\n",
    "df = data"
   ]
  },
  {
   "cell_type": "code",
   "execution_count": 132,
   "metadata": {},
   "outputs": [
    {
     "name": "stdout",
     "output_type": "stream",
     "text": [
      "{'Payday loan': 'Loans', 'Vehicle loan or lease': 'Loans', 'Payday loan, title loan, or personal loan': 'Loans', 'Checking or savings account': 'Banking_Services', 'Prepaid card': 'Credit_Cards', 'Mortgage': 'Loans', 'Consumer Loan': 'Loans', 'Virtual currency': 'Others', 'Money transfers': 'Others', 'Debt collection': 'Loans', 'Money transfer, virtual currency, or money service': 'Others', 'Bank account or service': 'Banking_Services', 'Credit card or prepaid card': 'Credit_Cards', 'Credit reporting, credit repair services, or other personal consumer reports': 'Credit_Cards', 'Credit card': 'Credit_Cards', 'Credit reporting': 'Credit_Cards', 'Other financial service': 'Others', 'Student loan': 'Loans'}\n"
     ]
    }
   ],
   "source": [
    "# Re-assign values to 'Product' types\n",
    "product_map={}\n",
    "for p in product_set:\n",
    "    \n",
    "    if p in bank_related:\n",
    "        product_map[p]='Banking_Services'\n",
    "    \n",
    "    if p in cc_related:\n",
    "        product_map[p]='Credit_Cards'\n",
    "    \n",
    "    if p in loan_related:\n",
    "        product_map[p]='Loans'\n",
    "    \n",
    "    if p in others:\n",
    "        product_map[p]='Others'\n",
    "    \n",
    "df['Product'] = df['Product'].apply(lambda x: product_map[x])\n",
    "print(product_map)\n",
    "\n"
   ]
  },
  {
   "cell_type": "code",
   "execution_count": 133,
   "metadata": {},
   "outputs": [
    {
     "data": {
      "text/plain": [
       "Index(['Date received', 'Product', 'Sub-product', 'Issue', 'Sub-issue',\n",
       "       'Consumer complaint narrative', 'Company public response', 'Company',\n",
       "       'State', 'ZIP code', 'Tags', 'Consumer consent provided?',\n",
       "       'Submitted via', 'Date sent to company', 'Company response to consumer',\n",
       "       'Timely response?', 'Consumer disputed?', 'Complaint ID'],\n",
       "      dtype='object')"
      ]
     },
     "execution_count": 133,
     "metadata": {},
     "output_type": "execute_result"
    }
   ],
   "source": [
    "df.columns"
   ]
  },
  {
   "cell_type": "code",
   "execution_count": 134,
   "metadata": {},
   "outputs": [
    {
     "name": "stdout",
     "output_type": "stream",
     "text": [
      "Index(['Product', 'Company', 'Submitted via', 'Company response to consumer',\n",
      "       'Timely response?', 'Consumer disputed?'],\n",
      "      dtype='object')\n"
     ]
    }
   ],
   "source": [
    "# Columns:\n",
    "# ['Date received', 'Product', 'Sub-product', 'Issue', 'Sub-issue',\n",
    "#        'Consumer complaint narrative', 'Company public response', 'Company',\n",
    "#        'State', 'ZIP code', 'Tags', 'Consumer consent provided?',\n",
    "#        'Submitted via', 'Date sent to company', 'Company response to consumer',\n",
    "#        'Timely response?', 'Consumer disputed?', 'Complaint ID']\n",
    "\n",
    "# Delete columns with extra information\n",
    "\n",
    "del df['Consumer complaint narrative']\n",
    "del df['Company public response']\n",
    "del df['ZIP code']\n",
    "del df['Consumer consent provided?']\n",
    "del df['State']\n",
    "del df['Tags']\n",
    "# del df['Company response to consumer']\n",
    "del df['Complaint ID']\n",
    "del df['Date received']\n",
    "del df['Date sent to company']\n",
    "del df['Sub-product']\n",
    "del df['Issue']\n",
    "del df['Sub-issue']\n",
    "\n",
    "print(df.columns)"
   ]
  },
  {
   "cell_type": "code",
   "execution_count": 135,
   "metadata": {},
   "outputs": [
    {
     "data": {
      "text/plain": [
       "Index(['Product', 'Company', 'Submitted via', 'Company response to consumer',\n",
       "       'Timely response?', 'Consumer disputed?'],\n",
       "      dtype='object')"
      ]
     },
     "execution_count": 135,
     "metadata": {},
     "output_type": "execute_result"
    }
   ],
   "source": [
    "df.columns"
   ]
  },
  {
   "cell_type": "code",
   "execution_count": 136,
   "metadata": {},
   "outputs": [
    {
     "data": {
      "text/plain": [
       "10"
      ]
     },
     "execution_count": 136,
     "metadata": {},
     "output_type": "execute_result"
    }
   ],
   "source": [
    "# Extract those companies with highest number of complaints\n",
    "# These were obtained from a previous run\n",
    "\n",
    "max_c_companies = ['BANK OF AMERICA, NATIONAL ASSOCIATION','EQUIFAX, INC.','WELLS FARGO & COMPANY',\n",
    "                   'Experian Information Solutions Inc.','TRANSUNION INTERMEDIATE HOLDINGS, INC.',\n",
    "                   'JPMORGAN CHASE & CO.','CITIBANK, N.A.','OCWEN LOAN SERVICING LLC',\n",
    "                   'CAPITAL ONE FINANCIAL CORPORATION','Navient Solutions, LLC.']\n",
    "\n",
    "max_c_df = pd.DataFrame()\n",
    "all_companies = set(data['Company'])\n",
    "\n",
    "for c in max_c_companies:\n",
    "    sub = df[df['Company']==c]\n",
    "    max_c_df=max_c_df.append(sub)\n",
    "    \n",
    "len(set(max_c_df['Company']))"
   ]
  },
  {
   "cell_type": "code",
   "execution_count": 137,
   "metadata": {},
   "outputs": [
    {
     "data": {
      "text/plain": [
       "461759"
      ]
     },
     "execution_count": 137,
     "metadata": {},
     "output_type": "execute_result"
    }
   ],
   "source": [
    "len(max_c_df)"
   ]
  },
  {
   "cell_type": "code",
   "execution_count": 138,
   "metadata": {},
   "outputs": [
    {
     "data": {
      "text/plain": [
       "Index(['Product', 'Company', 'Submitted via', 'Company response to consumer',\n",
       "       'Timely response?', 'Consumer disputed?'],\n",
       "      dtype='object')"
      ]
     },
     "execution_count": 138,
     "metadata": {},
     "output_type": "execute_result"
    }
   ],
   "source": [
    "max_c_df.columns"
   ]
  },
  {
   "cell_type": "code",
   "execution_count": 139,
   "metadata": {},
   "outputs": [
    {
     "name": "stdout",
     "output_type": "stream",
     "text": [
      "Done\n",
      "Index(['Consumer_disputed_No', 'Consumer_disputed_Yes',\n",
      "       'Product_Banking_Services', 'Product_Credit_Cards', 'Product_Loans',\n",
      "       'Product_Others', 'Submitted_via_Email', 'Submitted_via_Fax',\n",
      "       'Submitted_via_Phone', 'Submitted_via_Postal mail',\n",
      "       'Submitted_via_Referral', 'Submitted_via_Web',\n",
      "       'Company_BANK OF AMERICA, NATIONAL ASSOCIATION',\n",
      "       'Company_CAPITAL ONE FINANCIAL CORPORATION', 'Company_CITIBANK, N.A.',\n",
      "       'Company_EQUIFAX, INC.', 'Company_Experian Information Solutions Inc.',\n",
      "       'Company_JPMORGAN CHASE & CO.', 'Company_Navient Solutions, LLC.',\n",
      "       'Company_OCWEN LOAN SERVICING LLC',\n",
      "       'Company_TRANSUNION INTERMEDIATE HOLDINGS, INC.',\n",
      "       'Company_WELLS FARGO & COMPANY', 'Company_Response_Closed',\n",
      "       'Company_Response_Closed with explanation',\n",
      "       'Company_Response_Closed with monetary relief',\n",
      "       'Company_Response_Closed with non-monetary relief',\n",
      "       'Company_Response_Closed with relief',\n",
      "       'Company_Response_Closed without relief',\n",
      "       'Company_Response_In progress', 'Company_Response_Untimely response',\n",
      "       'Timely_response_No', 'Timely_response_Yes'],\n",
      "      dtype='object')\n"
     ]
    }
   ],
   "source": [
    "df_bucketed = pd.get_dummies(max_c_df, columns=['Consumer disputed?','Product', 'Submitted via', 'Company', 'Company response to consumer','Timely response?'\n",
    "       ], prefix=['Consumer_disputed','Product', 'Submitted_via','Company', 'Company_Response','Timely_response'\n",
    "       ])\n",
    "print(\"Done\")\n",
    "print(df_bucketed.columns)\n",
    "\n",
    "f = open(\"df_bucket_new_.csv\", \"w+\")\n",
    "f.write(df_bucketed.to_csv())\n",
    "f.close()\n",
    "\n",
    "# Use this CSV --> convert to ARFF using Python file csv2arff.py --> Clean the ARFF File i.e. remove spaces from \n",
    "# attribute names and extra attribute present at the start--> Run it on Weka for FP-Growth\n",
    "# with minsup = 0.1 and confidence 0.9"
   ]
  }
 ],
 "metadata": {
  "kernelspec": {
   "display_name": "Python 3",
   "language": "python",
   "name": "python3"
  },
  "language_info": {
   "codemirror_mode": {
    "name": "ipython",
    "version": 3
   },
   "file_extension": ".py",
   "mimetype": "text/x-python",
   "name": "python",
   "nbconvert_exporter": "python",
   "pygments_lexer": "ipython3",
   "version": "3.6.1"
  }
 },
 "nbformat": 4,
 "nbformat_minor": 2
}
